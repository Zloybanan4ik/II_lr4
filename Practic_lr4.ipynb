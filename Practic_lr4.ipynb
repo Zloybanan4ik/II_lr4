{
 "cells": [
  {
   "cell_type": "markdown",
   "metadata": {
    "id": "9o5SFzEZvWQR"
   },
   "source": [
    "# **1.Создание Series из списка** #\n",
    "*Создайте Series из списка чисел [5, 15, 25, 35, 45] с индексами ['a', 'b',\n",
    "'c', 'd', 'e'] .*\n",
    "\n",
    "*Выведите его на экран и определите его тип данных.*"
   ]
  },
  {
   "cell_type": "code",
   "execution_count": 4,
   "metadata": {
    "colab": {
     "base_uri": "https://localhost:8080/"
    },
    "id": "BYf_dwGJk1R8",
    "outputId": "cdce0350-c1dd-4aa1-a2c0-38887e07b233"
   },
   "outputs": [
    {
     "name": "stdout",
     "output_type": "stream",
     "text": [
      "Результат:\n",
      " [5, 15, 25, 35, 45]\n",
      "Тип: int64\n"
     ]
    }
   ],
   "source": [
    "#Задание №1\n",
    "import pandas as pd\n",
    "import numpy as np\n",
    "\n",
    "s = pd.Series([5, 15, 25, 35, 45], index = ['a','b', 'c','d','e'])\n",
    "print('Результат:\\n',s.tolist())\n",
    "print('Тип:',s.dtype)"
   ]
  },
  {
   "cell_type": "markdown",
   "metadata": {
    "id": "HStiLo-FvVen"
   },
   "source": [
    "# **2.Получение элемента Series** #\n",
    "*Дан Series с индексами ['A', 'B', 'C', 'D', 'E'] и значениями [12, 24,36,48, 60] .*\n",
    "\n",
    "*Используйте .loc[] для получения элемента с индексом 'C' и\n",
    ".iloc[] для получения третьего элемента.*"
   ]
  },
  {
   "cell_type": "code",
   "execution_count": null,
   "metadata": {
    "colab": {
     "base_uri": "https://localhost:8080/"
    },
    "id": "jndufQYlzvRz",
    "outputId": "dc70010d-5d2d-4a70-857c-eb4d12217a2a"
   },
   "outputs": [
    {
     "name": "stdout",
     "output_type": "stream",
     "text": [
      "36\n",
      "36\n"
     ]
    }
   ],
   "source": [
    "#Задание №2\n",
    "import pandas as pd\n",
    "import numpy as np\n",
    "\n",
    "s = pd.Series([12, 24, 36, 48, 60], index=['A','B','C','D','E'])\n",
    "print(s.loc['C'])\n",
    "print(s.iloc[2])"
   ]
  },
  {
   "cell_type": "markdown",
   "metadata": {
    "id": "1lP9tb7dv124"
   },
   "source": [
    "# **3.Фильтрация данных с помощью логической индексации** #\n",
    "\n",
    "*Создайте Series из массива NumPy np.array([4, 9, 16, 25, 36, 49, 64]) .*\n",
    "\n",
    "*Выберите только те элементы, которые больше 20, и выведите результат.*"
   ]
  },
  {
   "cell_type": "code",
   "execution_count": null,
   "metadata": {
    "colab": {
     "base_uri": "https://localhost:8080/"
    },
    "id": "tdjV-5de09Ci",
    "outputId": "87d1559e-215f-4981-a7a0-32b2bddd9e60"
   },
   "outputs": [
    {
     "name": "stdout",
     "output_type": "stream",
     "text": [
      "Отфильтрованный массив:\n",
      " [25, 36, 49, 64]\n"
     ]
    }
   ],
   "source": [
    "#Задание №3\n",
    "import pandas as pd\n",
    "import numpy as np\n",
    "\n",
    "massiv = np.array([4, 9, 16, 25, 36, 49, 64])\n",
    "s = pd.Series(massiv)\n",
    "\n",
    "filtred = s[s > 20]\n",
    "\n",
    "print('Отфильтрованный массив:\\n', filtred.tolist())"
   ]
  },
  {
   "cell_type": "markdown",
   "metadata": {
    "id": "qXxLg2CywCFc"
   },
   "source": [
    "# **4.Просмотр первых и последних элементов** #\n",
    "*Создайте Series , содержащий 50 случайных целых чисел от 1 до 100\n",
    "(используйте np.random.randint ).*\n",
    "\n",
    "*Выведите первые 7 и последние 5 элементов с помощью .head() и .tail()*"
   ]
  },
  {
   "cell_type": "code",
   "execution_count": null,
   "metadata": {
    "colab": {
     "base_uri": "https://localhost:8080/"
    },
    "id": "4iXCJ4Jc111t",
    "outputId": "22590582-4c49-40a3-8e06-206e8bb402bc"
   },
   "outputs": [
    {
     "name": "stdout",
     "output_type": "stream",
     "text": [
      "Первые 7 элементов:\n",
      " [50, 52, 42, 93, 1, 59, 22]\n",
      "Последние 5 элементов:\n",
      " [4, 16, 82, 87, 70]\n"
     ]
    }
   ],
   "source": [
    "#Задание №4\n",
    "import pandas as pd\n",
    "import numpy as np\n",
    "\n",
    "numbers = np.random.randint(1, 101, 50)\n",
    "s = pd.Series(numbers)\n",
    "print('Первые 7 элементов:\\n', s.head(7).tolist())\n",
    "print('Последние 5 элементов:\\n',s.tail(5).tolist())"
   ]
  },
  {
   "cell_type": "markdown",
   "metadata": {
    "id": "awjpv2HAwSQz"
   },
   "source": [
    "# **5.Определение типа данных** #\n",
    "*Создайте Series из списка ['cat', 'dog', 'rabbit', 'parrot', 'fish'] .*\n",
    "\n",
    "*Определите тип данных с помощью .dtype , затем преобразуйте его в category с помощью .astype()*"
   ]
  },
  {
   "cell_type": "code",
   "execution_count": null,
   "metadata": {
    "colab": {
     "base_uri": "https://localhost:8080/"
    },
    "id": "ymnzt0mO3Wqp",
    "outputId": "1ac39741-2684-48a6-b88b-6e4227fa3aa2"
   },
   "outputs": [
    {
     "name": "stdout",
     "output_type": "stream",
     "text": [
      "Изначальный тип данных: object\n",
      "Тип данных после изменения: category\n"
     ]
    }
   ],
   "source": [
    "#Задание №5\n",
    "import pandas as pd\n",
    "import numpy as np\n",
    "\n",
    "s = pd.Series(['cat', 'dog', 'rabbit', 'parrot', 'fish'])\n",
    "obj = s.dtype\n",
    "\n",
    "print('Изначальный тип данных:', obj)\n",
    "\n",
    "categor = s.astype('category')\n",
    "print('Тип данных после изменения:',categor.dtype)"
   ]
  },
  {
   "cell_type": "markdown",
   "metadata": {
    "id": "meFfhaDPwhRb"
   },
   "source": [
    "# **6.Проверка пропущенныъ значений** #\n",
    "*Создайте Series с данными [1.2, np.nan, 3.4, np.nan, 5.6, 6.8].*\n",
    "\n",
    "*Напишите код, который проверяет, есть ли в Series пропущенные значения ( NaN ), и выведите индексы таких элементов*"
   ]
  },
  {
   "cell_type": "code",
   "execution_count": null,
   "metadata": {
    "colab": {
     "base_uri": "https://localhost:8080/"
    },
    "id": "_Pn7qGye57y7",
    "outputId": "914e323d-8661-408e-def2-dc17e5aa816f"
   },
   "outputs": [
    {
     "name": "stdout",
     "output_type": "stream",
     "text": [
      "Вывод индексов пропущенных значений [1, 3]\n"
     ]
    }
   ],
   "source": [
    "#Задание №6\n",
    "import pandas as pd\n",
    "import numpy as np\n",
    "\n",
    "data = pd.Series([1.2, np.nan, 3.4, np.nan, 5.6, 6.8])\n",
    "Nan = data.isnull()\n",
    "\n",
    "print('Вывод индексов пропущенных значений', data.index[Nan].tolist())"
   ]
  },
  {
   "cell_type": "markdown",
   "metadata": {
    "id": "U5lXBOBvwuQc"
   },
   "source": [
    "# **7.Заполнение пропущенных значений** #\n",
    "*Используйте Series из предыдущего задания и замените все NaN на среднее\n",
    "значение всех непустых элементов. Выведите результат.*"
   ]
  },
  {
   "cell_type": "code",
   "execution_count": null,
   "metadata": {
    "colab": {
     "base_uri": "https://localhost:8080/"
    },
    "id": "xyy4Em4f9NLB",
    "outputId": "9ebec2c8-89ab-4e7e-92b6-502466232cf9"
   },
   "outputs": [
    {
     "name": "stdout",
     "output_type": "stream",
     "text": [
      "Измененные данные:\n",
      " [1.2, 4.25, 3.4, 4.25, 5.6, 6.8]\n"
     ]
    }
   ],
   "source": [
    "#Задание №7\n",
    "import pandas as pd\n",
    "import numpy as np\n",
    "\n",
    "data = pd.Series([1.2, np.nan, 3.4, np.nan, 5.6, 6.8])\n",
    "\n",
    "sredn = np.mean(data)\n",
    "\n",
    "filtred = data.fillna(sredn)\n",
    "print('Измененные данные:\\n',filtred.tolist())\n"
   ]
  },
  {
   "cell_type": "markdown",
   "metadata": {
    "id": "EiQ5h64xw2fm"
   },
   "source": [
    "# **8. Арифметические операции с Series** #\n",
    "*Создайте два Series*\n",
    "1. s1 = pd.Series([10, 20, 30, 40], index=['a', 'b', 'c', 'd'])\n",
    "2. s2 = pd.Series([5, 15, 25, 35], index=['b', 'c', 'd', 'e'])\n",
    "*Выполните сложение s1 + s2 . Объясните, почему в результате появляются\n",
    "NaN , и замените их на 0*"
   ]
  },
  {
   "cell_type": "code",
   "execution_count": null,
   "metadata": {
    "colab": {
     "base_uri": "https://localhost:8080/"
    },
    "id": "TW147DUtApEj",
    "outputId": "37c18edc-2d29-4b04-d22b-5c0d132c9e9a"
   },
   "outputs": [
    {
     "name": "stdout",
     "output_type": "stream",
     "text": [
      "Полученная сумма: [nan, 25.0, 45.0, 65.0, nan]\n",
      "Nan появляется из-за несовпадения индексов некоторых элементов.\n",
      "Данные после замены \"nan\" на 0: [0.0, 25.0, 45.0, 65.0, 0.0]\n"
     ]
    }
   ],
   "source": [
    "#Задание №8\n",
    "import pandas as pd\n",
    "import numpy as np\n",
    "\n",
    "s1 = pd.Series([10, 20, 30, 40], index = ['a', 'b', 'c', 'd'])\n",
    "s2 = pd.Series([5, 15, 25, 35], index = ['b', 'c', 'd', 'e'])\n",
    "\n",
    "summ = s1 + s2\n",
    "print('Полученная сумма:',summ.tolist())\n",
    "print('Nan появляется из-за несовпадения индексов некоторых элементов.')\n",
    "\n",
    "zamena = summ.fillna(0)\n",
    "print('Данные после замены \"nan\" на 0:',zamena.tolist())"
   ]
  },
  {
   "cell_type": "markdown",
   "metadata": {
    "id": "e2aC2xRqxG--"
   },
   "source": [
    "# **9.Применение функции к Series** #\n",
    "*Создайте Series из чисел [2, 4, 6, 8, 10] . Напишите код, который применяет к каждому элементу функцию вычисления квадратного корня с помощью .apply(np.sqrt)*"
   ]
  },
  {
   "cell_type": "code",
   "execution_count": null,
   "metadata": {
    "colab": {
     "base_uri": "https://localhost:8080/"
    },
    "id": "ISM6vxu7CO8g",
    "outputId": "b4016a9d-b0bc-4938-944a-845037c956cd"
   },
   "outputs": [
    {
     "name": "stdout",
     "output_type": "stream",
     "text": [
      "Вычисленный квадрат каждого из чисел:\n",
      " [1.4142135623730951, 2.0, 2.449489742783178, 2.8284271247461903, 3.1622776601683795]\n"
     ]
    }
   ],
   "source": [
    "#Задание №9\n",
    "import pandas as pd\n",
    "import numpy as np\n",
    "\n",
    "s = pd.Series([2, 4, 6, 8, 10])\n",
    "koren = s.apply(np.sqrt)\n",
    "\n",
    "print('Вычисленный квадрат каждого из чисел:\\n',koren.tolist())"
   ]
  },
  {
   "cell_type": "markdown",
   "metadata": {
    "id": "Shhb15lqxOge"
   },
   "source": [
    "# **10.Основные статические методы** #\n",
    "*Создайте Series из 20 случайных чисел от 50 до 150 (используйте\n",
    "np.random.randint ). Найдите сумму, среднее, минимальное и максимальное\n",
    "значение. Выведите также стандартное отклонение*"
   ]
  },
  {
   "cell_type": "code",
   "execution_count": null,
   "metadata": {
    "colab": {
     "base_uri": "https://localhost:8080/"
    },
    "id": "N4jsDvCaCukr",
    "outputId": "459dc242-db9e-4ac5-fbb9-c2159c21b4fc"
   },
   "outputs": [
    {
     "name": "stdout",
     "output_type": "stream",
     "text": [
      "Полученные числа: [86, 131, 121, 92, 83, 120, 103, 121, 144, 80, 110, 93, 114, 101, 139, 138, 96, 125, 75, 135]\n",
      "Полученная сумма: 2207\n",
      "Среднее значение: 110.35\n",
      "Минимальное значение: 75\n",
      "Максимальное значение: 144\n",
      "Стандартное отклонение: 20.97206475290404\n"
     ]
    }
   ],
   "source": [
    "#Задание №10\n",
    "import pandas as pd\n",
    "import numpy as np\n",
    "\n",
    "numbers = np.random.randint(50, 151, 20)\n",
    "\n",
    "s = pd.Series(numbers)\n",
    "print('Полученные числа:', s.tolist())\n",
    "\n",
    "print('Полученная сумма:', np.sum(s))\n",
    "print('Среднее значение:', np.mean(s))\n",
    "print('Минимальное значение:', np.min(s))\n",
    "print('Максимальное значение:', np.max(s))\n",
    "print('Стандартное отклонение:', np.std(s))"
   ]
  },
  {
   "cell_type": "markdown",
   "metadata": {
    "id": "mDMODpYfxXEq"
   },
   "source": [
    "# **11.Работа с временными рядами** #\n",
    "*Создайте Series , где индексами будут даты с 1 по 10 марта 2024 года\n",
    "( pd.date_range(start='2024-03-01', periods=10, freq='D') ), а значениями –случайные числа от 10 до 100. Выберите данные за 5–8 марта*"
   ]
  },
  {
   "cell_type": "code",
   "execution_count": null,
   "metadata": {
    "colab": {
     "base_uri": "https://localhost:8080/"
    },
    "id": "W6mLhD69E-oJ",
    "outputId": "8cca24ee-0de5-46ee-ae6b-49ab1a655e73"
   },
   "outputs": [
    {
     "name": "stdout",
     "output_type": "stream",
     "text": [
      "2024-03-05    73\n",
      "2024-03-06    63\n",
      "2024-03-07    28\n",
      "2024-03-08    39\n",
      "Freq: D, dtype: int64\n"
     ]
    }
   ],
   "source": [
    "#Задание №11\n",
    "import pandas as pd\n",
    "import numpy as np\n",
    "\n",
    "znach = np.random.randint(10, 101, 10)\n",
    "\n",
    "s = pd.Series(znach, index = pd.date_range(start='2024-03-01', periods=10, freq='D'))\n",
    "\n",
    "print(s.loc['2024-03-05': '2024-03-08'])"
   ]
  },
  {
   "cell_type": "markdown",
   "metadata": {
    "id": "w3RjmQ6zxgNW"
   },
   "source": [
    "# **12.Проверка уникальности индексов** #\n",
    "*Создайте Series с индексами ['A', 'B', 'A', 'C', 'D', 'B'] и значениями\n",
    "[10, 20, 30, 40, 50, 60] . Проверьте, являются ли индексы уникальными. Если нет, сгруппируйте повторяющиеся индексы и сложите их значения*"
   ]
  },
  {
   "cell_type": "code",
   "execution_count": null,
   "metadata": {
    "colab": {
     "base_uri": "https://localhost:8080/"
    },
    "id": "yLnuIe8XHFX2",
    "outputId": "75ea352f-7964-472a-ea4c-76491f5874bc"
   },
   "outputs": [
    {
     "name": "stdout",
     "output_type": "stream",
     "text": [
      "Проверка на уникальность индексов:  False\n",
      "Сложение сгруппированных повторяющих индексов\n",
      "A    40\n",
      "B    80\n",
      "C    40\n",
      "D    50\n",
      "dtype: int64\n"
     ]
    }
   ],
   "source": [
    "#Задание №12\n",
    "import pandas as pd\n",
    "import numpy as np\n",
    "\n",
    "s = pd.Series([10, 20, 30, 40, 50, 60], index = ['A', 'B', 'A', 'C', 'D', 'B'])\n",
    "uniq = s.index.is_unique\n",
    "print('Проверка на уникальность индексов: ',uniq)\n",
    "\n",
    "if not uniq:\n",
    "  groop = s.groupby(s.index).sum()\n",
    "  print('Сложение сгруппированных повторяющих индексов')\n",
    "  print(groop)"
   ]
  },
  {
   "cell_type": "markdown",
   "metadata": {
    "id": "MNi3mydXxpht"
   },
   "source": [
    "# **13. Преобразование строковых дат в DatetimeIndex** #\n",
    "*Создайте Series , где индексами будут строки ['2024-03-10', '2024-03-11', '2024-03-12'] , а значениями [100, 200, 300].*\n",
    "\n",
    "*Преобразуйте индексы в DatetimeIndex и выведите тип данных индекса*"
   ]
  },
  {
   "cell_type": "code",
   "execution_count": null,
   "metadata": {
    "colab": {
     "base_uri": "https://localhost:8080/"
    },
    "id": "UtUszujw_mZc",
    "outputId": "aafe1fbf-b2e2-457e-aac8-4ffa87254f84"
   },
   "outputs": [
    {
     "name": "stdout",
     "output_type": "stream",
     "text": [
      "Преобразованный индекс: datetime64[ns]\n"
     ]
    }
   ],
   "source": [
    "#Задание №13\n",
    "import pandas as pd\n",
    "import numpy as np\n",
    "\n",
    "s = pd.Series([100, 200, 300], index = ['2024-03-10', '2024-03-11', '2024-03-12'])\n",
    "s.index = pd.to_datetime(s.index)\n",
    "print('Преобразованный индекс:', s.index.dtype)"
   ]
  },
  {
   "cell_type": "markdown",
   "metadata": {
    "id": "RCET3ESUx34m"
   },
   "source": [
    "# **14.Чтение данных из CSV-файла** #\n",
    "*Создайте CSV-файл data.csv со следующими данными:*\n",
    "Дата,Цена\n",
    "\n",
    "2024-03-01,100\n",
    "\n",
    "2024-03-02,110\n",
    "\n",
    "2024-03-03,105\n",
    "\n",
    "2024-03-04,120\n",
    "\n",
    "2024-03-05,115\n",
    "\n",
    "*Прочитайте файл и создайте Series , используя \"Дата\" в качестве индекса*"
   ]
  },
  {
   "cell_type": "code",
   "execution_count": null,
   "metadata": {
    "colab": {
     "base_uri": "https://localhost:8080/"
    },
    "id": "VaGI8uM_BEiC",
    "outputId": "a6fb7f37-2258-4465-d6c0-8e19c588c060"
   },
   "outputs": [
    {
     "name": "stdout",
     "output_type": "stream",
     "text": [
      "Дата\n",
      "2024-03-01    100\n",
      "2024-03-02    110\n",
      "2024-03-03    105\n",
      "2024-03-04    120\n",
      "2024-03-05    115\n",
      "dtype: int64\n"
     ]
    }
   ],
   "source": [
    "#Задание №14\n",
    "import pandas as pd\n",
    "import numpy as np\n",
    "\n",
    "df = pd.read_csv(\"data.csv\")\n",
    "s = pd.Series(df[\"Цена\"].values, index=df[\"Дата\"])\n",
    "print(s)"
   ]
  },
  {
   "cell_type": "markdown",
   "metadata": {
    "id": "XXzc7iA6yIGx"
   },
   "source": [
    "# **15.Построение графика на основе Series** #\n",
    "*Создайте Series , где индексами будут даты с 1 по 30 марта 2024 года, а\n",
    "значениями – случайные числа от 50 до 150. Постройте график значений с\n",
    "помощью matplotlib . Добавьте заголовок, подписи осей и сетку*"
   ]
  },
  {
   "cell_type": "code",
   "execution_count": null,
   "metadata": {
    "colab": {
     "base_uri": "https://localhost:8080/",
     "height": 1000
    },
    "id": "QB4VFZIyHmNr",
    "outputId": "00298b99-60f8-4e3a-cbe3-d40ccdcd8dcb"
   },
   "outputs": [
    {
     "name": "stdout",
     "output_type": "stream",
     "text": [
      "2024-03-01     50\n",
      "2024-03-02    135\n",
      "2024-03-03    123\n",
      "2024-03-04    108\n",
      "2024-03-05    137\n",
      "2024-03-06    143\n",
      "2024-03-07     71\n",
      "2024-03-08    118\n",
      "2024-03-09    124\n",
      "2024-03-10    125\n",
      "2024-03-11    144\n",
      "2024-03-12    115\n",
      "2024-03-13     99\n",
      "2024-03-14    107\n",
      "2024-03-15    150\n",
      "2024-03-16    138\n",
      "2024-03-17     99\n",
      "2024-03-18     68\n",
      "2024-03-19     80\n",
      "2024-03-20     64\n",
      "2024-03-21    118\n",
      "2024-03-22    123\n",
      "2024-03-23    103\n",
      "2024-03-24    131\n",
      "2024-03-25     70\n",
      "2024-03-26     93\n",
      "2024-03-27    103\n",
      "2024-03-28     56\n",
      "2024-03-29    149\n",
      "2024-03-30     83\n",
      "Freq: D, dtype: int64\n"
     ]
    },
    {
     "data": {
      "image/png": "[encoded data removed]",
      "text/plain": [
       "<Figure size 1000x600 with 1 Axes>"
      ]
     },
     "metadata": {},
     "output_type": "display_data"
    }
   ],
   "source": [
    "#Задание №15\n",
    "import pandas as pd\n",
    "import numpy as np\n",
    "import matplotlib.pyplot as plt\n",
    "\n",
    "dates = pd.date_range(start=\"2024-03-01\", periods=30, freq=\"D\")\n",
    "prices = np.random.randint(50, 151, 30)\n",
    "\n",
    "s = pd.Series(prices, index=dates)\n",
    "\n",
    "plt.figure(figsize=(10,6))\n",
    "plt.plot(s.index, s.values, label=\"Цена акций\", marker=\"o\")\n",
    "plt.gcf().autofmt_xdate()\n",
    "plt.ylabel(\"Цена\")\n",
    "plt.xlabel(\"Дата\")\n",
    "plt.title(\"График цены\")\n",
    "\n",
    "plt.grid()\n",
    "plt.show()\n"
   ]
  },
  {
   "cell_type": "markdown",
   "metadata": {
    "id": "8vuCG9JMySX5"
   },
   "source": [
    "# **Индивидуальное практическое задание** ##\n",
    "## 12. Динамика спроса на товар в интернет-магазине ##\n",
    "Создайте CSV-файл demand.csv со следующими данными:\n",
    "#Дата,Спрос\n",
    "-2024-09-01,120\n",
    "-2024-09-02,135\n",
    "-2024-09-03,150\n",
    "-2024-09-04,170\n",
    "-2024-09-05,160\n",
    "Прочитайте файл, установите DatetimeIndex , вычислите скользящее среднее\n",
    "( rolling(3).mean() ) и постройте два графика: фактического спроса и его\n",
    "сглаженного значения.\n"
   ]
  },
  {
   "cell_type": "code",
   "execution_count": 4,
   "metadata": {
    "colab": {
     "base_uri": "https://localhost:8080/",
     "height": 433
    },
    "id": "CKDM7X1eO9Pe",
    "outputId": "1f6a60bd-7726-48c8-e916-4ea63ab0f911"
   },
   "outputs": [
    {
     "data": {
      "image/png": "[encoded data removed]",
      "text/plain": [
       "<Figure size 1000x500 with 1 Axes>"
      ]
     },
     "metadata": {},
     "output_type": "display_data"
    }
   ],
   "source": [
    "import pandas as pd\n",
    "import matplotlib.pyplot as plt  # Только для визуализации\n",
    "\n",
    "# 1. Создаем CSV-файл\n",
    "data = {\n",
    "    'Дата': ['2024-09-01', '2024-09-02', '2024-09-03', '2024-09-04', '2024-09-05'],\n",
    "    'Спрос': [120, 135, 150, 170, 160]\n",
    "}\n",
    "\n",
    "df = pd.DataFrame(data)\n",
    "df.to_csv('demand.csv', index=False, encoding='utf-8')\n",
    "\n",
    "# 2. Чтение файла и обработка данных\n",
    "df = pd.read_csv('demand.csv', parse_dates=['Дата'])\n",
    "df.set_index('Дата', inplace=True)\n",
    "\n",
    "# 3. Вычисление скользящего среднего\n",
    "df['Скользящее_среднее'] = df['Спрос'].rolling(3).mean()\n",
    "\n",
    "# 4. Построение графиков\n",
    "plt.figure(figsize=(10, 5))\n",
    "plt.plot(df.index, df['Спрос'], 'b-o', label='Фактический спрос')\n",
    "plt.plot(df.index, df['Скользящее_среднее'], 'r--s', label='Скользящее среднее (окно=3)')\n",
    "\n",
    "plt.title('Динамика спроса на товар в интернет-магазине')\n",
    "plt.xlabel('Дата')\n",
    "plt.ylabel('Спрос (ед.)')\n",
    "plt.grid(True, linestyle='--', alpha=0.7)\n",
    "plt.legend()\n",
    "\n",
    "# Поворачиваем даты для лучшей читаемости\n",
    "plt.xticks(rotation=45)\n",
    "plt.tight_layout()\n",
    "plt.show()"
   ]
  },
  {
   "cell_type": "code",
   "execution_count": null,
   "metadata": {},
   "outputs": [],
   "source": []
  }
 ],
 "metadata": {
  "colab": {
   "provenance": []
  },
  "kernelspec": {
   "display_name": "Python 3 (ipykernel)",
   "language": "python",
   "name": "python3"
  },
  "language_info": {
   "codemirror_mode": {
    "name": "ipython",
    "version": 3
   },
   "file_extension": ".py",
   "mimetype": "text/x-python",
   "name": "python",
   "nbconvert_exporter": "python",
   "pygments_lexer": "ipython3",
   "version": "3.9.13"
  }
 },
 "nbformat": 4,
 "nbformat_minor": 4
}
